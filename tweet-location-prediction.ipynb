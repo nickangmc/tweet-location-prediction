{
 "cells": [
  {
   "cell_type": "code",
   "execution_count": 197,
   "metadata": {},
   "outputs": [
    {
     "name": "stdout",
     "output_type": "stream",
     "text": [
      "(103360, 3)\n",
      "(37300, 3)\n"
     ]
    },
    {
     "data": {
      "text/html": [
       "<div>\n",
       "<style scoped>\n",
       "    .dataframe tbody tr th:only-of-type {\n",
       "        vertical-align: middle;\n",
       "    }\n",
       "\n",
       "    .dataframe tbody tr th {\n",
       "        vertical-align: top;\n",
       "    }\n",
       "\n",
       "    .dataframe thead th {\n",
       "        text-align: right;\n",
       "    }\n",
       "</style>\n",
       "<table border=\"1\" class=\"dataframe\">\n",
       "  <thead>\n",
       "    <tr style=\"text-align: right;\">\n",
       "      <th></th>\n",
       "      <th>id</th>\n",
       "      <th>location</th>\n",
       "      <th>text</th>\n",
       "    </tr>\n",
       "  </thead>\n",
       "  <tbody>\n",
       "    <tr>\n",
       "      <th>0</th>\n",
       "      <td>1</td>\n",
       "      <td>Melbourne</td>\n",
       "      <td>\\ud83c\\udf17 @ Melbourne, Victoria, Australia ...</td>\n",
       "    </tr>\n",
       "    <tr>\n",
       "      <th>1</th>\n",
       "      <td>2</td>\n",
       "      <td>Melbourne</td>\n",
       "      <td>@theage Of course it costs more, minimum stand...</td>\n",
       "    </tr>\n",
       "    <tr>\n",
       "      <th>2</th>\n",
       "      <td>3</td>\n",
       "      <td>Brisbane</td>\n",
       "      <td>Hope people make just as much noise as they di...</td>\n",
       "    </tr>\n",
       "    <tr>\n",
       "      <th>3</th>\n",
       "      <td>4</td>\n",
       "      <td>Perth</td>\n",
       "      <td>Pouring the perfect Prosecco \\ud83e\\udd42\\ud83...</td>\n",
       "    </tr>\n",
       "    <tr>\n",
       "      <th>4</th>\n",
       "      <td>5</td>\n",
       "      <td>Perth</td>\n",
       "      <td>$LNY losing traction at 0.014, see this retrac...</td>\n",
       "    </tr>\n",
       "  </tbody>\n",
       "</table>\n",
       "</div>"
      ],
      "text/plain": [
       "   id   location                                               text\n",
       "0   1  Melbourne  \\ud83c\\udf17 @ Melbourne, Victoria, Australia ...\n",
       "1   2  Melbourne  @theage Of course it costs more, minimum stand...\n",
       "2   3   Brisbane  Hope people make just as much noise as they di...\n",
       "3   4      Perth  Pouring the perfect Prosecco \\ud83e\\udd42\\ud83...\n",
       "4   5      Perth  $LNY losing traction at 0.014, see this retrac..."
      ]
     },
     "execution_count": 197,
     "metadata": {},
     "output_type": "execute_result"
    }
   ],
   "source": [
    "import csv\n",
    "import pandas as pd\n",
    "import numpy as np\n",
    "import string\n",
    "\n",
    "from sklearn import model_selection, preprocessing, metrics\n",
    "from sklearn.linear_model import LogisticRegression\n",
    "from sklearn.naive_bayes import MultinomialNB, BernoulliNB\n",
    "from sklearn.svm import LinearSVC\n",
    "from sklearn.ensemble import RandomForestClassifier, VotingClassifier\n",
    "from sklearn.feature_extraction.text import CountVectorizer, TfidfVectorizer\n",
    "from sklearn.feature_selection import SelectPercentile, f_classif, chi2\n",
    "from sklearn.metrics import accuracy_score, precision_recall_fscore_support\n",
    "\n",
    "import matplotlib.pyplot as plt\n",
    "\n",
    "df     = pd.read_csv('train-raw.tsv', sep='\\t', header=None, names=['id', 'location', 'text'])\n",
    "dev_df = pd.read_csv('dev-raw.tsv', sep='\\t', header=None, names=['id', 'location', 'text'])\n",
    "\n",
    "print(df.shape)\n",
    "print(dev_df.shape)\n",
    "\n",
    "df.head()"
   ]
  },
  {
   "cell_type": "code",
   "execution_count": 198,
   "metadata": {},
   "outputs": [],
   "source": [
    "# Get the training data\n",
    "train_x, train_y = df['text'], df['location']\n",
    "\n",
    "# Get the dev data\n",
    "valid_x, valid_y = dev_df['text'], dev_df['location']"
   ]
  },
  {
   "cell_type": "code",
   "execution_count": 199,
   "metadata": {},
   "outputs": [],
   "source": [
    "# create a count vectorizer object \n",
    "count_vect = CountVectorizer()\n",
    "count_vect.fit(df['text'])\n",
    "\n",
    "# transform the training and validation data using count vectorizer object\n",
    "xtrain_count =  count_vect.transform(train_x)\n",
    "xvalid_count =  count_vect.transform(valid_x)"
   ]
  },
  {
   "cell_type": "code",
   "execution_count": 200,
   "metadata": {},
   "outputs": [],
   "source": [
    "# create a tf-idf vectorizer object \n",
    "tfidf_vect = TfidfVectorizer()\n",
    "tfidf_vect.fit(df['text'])\n",
    "\n",
    "# transform the training and validation data using tf-idf vectorizer object\n",
    "xtrain_tfidf =  tfidf_vect.transform(train_x)\n",
    "xvalid_tfidf =  tfidf_vect.transform(valid_x)"
   ]
  },
  {
   "cell_type": "code",
   "execution_count": 201,
   "metadata": {},
   "outputs": [],
   "source": [
    "def train_model(classifier, train_x, train_y, valid_x, valid_y):\n",
    "    # fit the training dataset on the classifier\n",
    "    classifier.fit(train_x, train_y)\n",
    "    \n",
    "    # predict the labels on validation dataset\n",
    "    predictions = classifier.predict(valid_x)\n",
    "    \n",
    "    return metrics.accuracy_score(predictions, valid_y)"
   ]
  },
  {
   "cell_type": "code",
   "execution_count": 202,
   "metadata": {},
   "outputs": [],
   "source": [
    "def find_metrics(classifier, train_x, train_y, valid_x, valid_y):\n",
    "    classifier.fit(train_x, train_y)\n",
    "    \n",
    "    # predict the labels on validation dataset\n",
    "    predictions = classifier.predict(valid_x)\n",
    "    \n",
    "    accuracy = metrics.accuracy_score(predictions, valid_y)\n",
    "    precision, recall, f_score, score = metrics.precision_recall_fscore_support(predictions, valid_y, average='weighted')\n",
    "    \n",
    "    return accuracy, precision, recall, f_score"
   ]
  },
  {
   "cell_type": "code",
   "execution_count": 168,
   "metadata": {},
   "outputs": [],
   "source": [
    "# Finding the best hyperparameters (smoothing value) for plotting\n",
    "accuracies1=[]\n",
    "accuracies2=[]\n",
    "accuracies3=[]\n",
    "\n",
    "alphas=[]\n",
    "for alpha in range(1,21):\n",
    "    alpha /= 10.0\n",
    "    accuracy1 = train_model(MultinomialNB(alpha=alpha), xtrain_tfidf, train_y, xvalid_tfidf, valid_y)\n",
    "    accuracy2 = train_model(MultinomialNB(alpha=alpha), xtrain_count, train_y, xvalid_count, valid_y)\n",
    "    accuracy3 = train_model(BernoulliNB(alpha=alpha), xtrain_count, train_y, xvalid_count, valid_y)\n",
    "    accuracies1.append(accuracy1)\n",
    "    accuracies2.append(accuracy2)\n",
    "    accuracies3.append(accuracy3)\n",
    "    alphas.append(alpha)"
   ]
  },
  {
   "cell_type": "code",
   "execution_count": 169,
   "metadata": {},
   "outputs": [
    {
     "data": {
      "text/plain": [
       "Text(0,0.5,'Accuracy')"
      ]
     },
     "execution_count": 169,
     "metadata": {},
     "output_type": "execute_result"
    },
    {
     "data": {
      "image/png": "[encoded data removed]",
      "text/plain": [
       "<Figure size 432x288 with 1 Axes>"
      ]
     },
     "metadata": {},
     "output_type": "display_data"
    }
   ],
   "source": [
    "# Plot the accuracy vs smoothing values graph\n",
    "plt.plot(alphas, accuracies1, label='MNB_IFIDF')\n",
    "plt.plot(alphas, accuracies2, label='MNB_Count')\n",
    "plt.plot(alphas, accuracies3, label='BNB')\n",
    "plt.legend(loc='upper left')\n",
    "plt.xlabel('Smoothing value')\n",
    "plt.ylabel('Accuracy')"
   ]
  },
  {
   "cell_type": "code",
   "execution_count": 38,
   "metadata": {
    "scrolled": true
   },
   "outputs": [
    {
     "name": "stdout",
     "output_type": "stream",
     "text": [
      "Alpha: 0.050000, Accuracy: 0.335013\n",
      "Alpha: 0.100000, Accuracy: 0.337346\n",
      "Alpha: 0.150000, Accuracy: 0.338391\n",
      "Alpha: 0.200000, Accuracy: 0.339651\n",
      "Alpha: 0.250000, Accuracy: 0.340214\n",
      "Alpha: 0.300000, Accuracy: 0.340349\n",
      "Alpha: 0.350000, Accuracy: 0.341287\n",
      "Alpha: 0.400000, Accuracy: 0.342252\n",
      "Alpha: 0.450000, Accuracy: 0.342413\n",
      "Alpha: 0.500000, Accuracy: 0.342493\n",
      "Alpha: 0.550000, Accuracy: 0.342011\n",
      "Alpha: 0.600000, Accuracy: 0.342118\n",
      "Alpha: 0.650000, Accuracy: 0.342011\n",
      "Alpha: 0.700000, Accuracy: 0.342547\n",
      "Alpha: 0.750000, Accuracy: 0.342306\n",
      "Alpha: 0.800000, Accuracy: 0.342815\n",
      "Alpha: 0.850000, Accuracy: 0.342949\n",
      "Alpha: 0.900000, Accuracy: 0.343110\n",
      "Alpha: 0.950000, Accuracy: 0.343029\n",
      "Alpha: 1.000000, Accuracy: 0.343110\n",
      "Alpha: 1.050000, Accuracy: 0.343512\n",
      "Alpha: 1.100000, Accuracy: 0.343512\n",
      "Alpha: 1.150000, Accuracy: 0.343673\n",
      "Alpha: 1.200000, Accuracy: 0.343539\n",
      "Alpha: 1.250000, Accuracy: 0.343539\n",
      "Alpha: 1.300000, Accuracy: 0.343592\n",
      "Alpha: 1.350000, Accuracy: 0.344102\n",
      "Alpha: 1.400000, Accuracy: 0.344021\n",
      "Alpha: 1.450000, Accuracy: 0.344048\n",
      "Alpha: 1.500000, Accuracy: 0.343914\n",
      "Alpha: 1.550000, Accuracy: 0.343887\n",
      "Alpha: 1.600000, Accuracy: 0.343700\n",
      "Alpha: 1.650000, Accuracy: 0.343700\n",
      "Alpha: 1.700000, Accuracy: 0.343324\n",
      "Alpha: 1.750000, Accuracy: 0.343029\n",
      "Alpha: 1.800000, Accuracy: 0.342976\n",
      "Alpha: 1.850000, Accuracy: 0.343190\n",
      "Alpha: 1.900000, Accuracy: 0.343351\n",
      "Alpha: 1.950000, Accuracy: 0.343351\n",
      "Alpha: 2.000000, Accuracy: 0.343217\n"
     ]
    }
   ],
   "source": [
    "# Finding the best hyperparameters (smoothing value) for MNB on TF_IDF feature set\n",
    "best_accuracy = 0\n",
    "best_a = 0\n",
    "for alpha in range(1,41):\n",
    "    alpha /= 20.0\n",
    "    accuracy = train_model(MultinomialNB(alpha=alpha), xtrain_tfidf, train_y, xvalid_tfidf, valid_y)\n",
    "    print(\"Alpha: %f, Accuracy: %f\" %(alpha, accuracy))\n",
    "    if accuracy > best_accuracy:\n",
    "        best_accuracy = accuracy\n",
    "        best_a = alpha"
   ]
  },
  {
   "cell_type": "code",
   "execution_count": 40,
   "metadata": {},
   "outputs": [
    {
     "name": "stdout",
     "output_type": "stream",
     "text": [
      "Highest accuracy:  0.3441018766756032\n",
      "Alpha: 1.350000\n"
     ]
    }
   ],
   "source": [
    "print(\"Highest accuracy: \", best_accuracy)\n",
    "print(\"Alpha: %f\" %(best_a))"
   ]
  },
  {
   "cell_type": "code",
   "execution_count": 17,
   "metadata": {
    "scrolled": true
   },
   "outputs": [
    {
     "name": "stdout",
     "output_type": "stream",
     "text": [
      "Alpha: 0.050000, Accuracy: 0.338767\n",
      "Alpha: 0.100000, Accuracy: 0.340643\n",
      "Alpha: 0.150000, Accuracy: 0.340670\n",
      "Alpha: 0.200000, Accuracy: 0.341394\n",
      "Alpha: 0.250000, Accuracy: 0.341448\n",
      "Alpha: 0.300000, Accuracy: 0.341340\n",
      "Alpha: 0.350000, Accuracy: 0.341314\n",
      "Alpha: 0.400000, Accuracy: 0.341689\n",
      "Alpha: 0.450000, Accuracy: 0.341957\n",
      "Alpha: 0.500000, Accuracy: 0.342145\n",
      "Alpha: 0.550000, Accuracy: 0.342654\n",
      "Alpha: 0.600000, Accuracy: 0.342735\n",
      "Alpha: 0.650000, Accuracy: 0.342440\n",
      "Alpha: 0.700000, Accuracy: 0.342306\n",
      "Alpha: 0.750000, Accuracy: 0.342440\n",
      "Alpha: 0.800000, Accuracy: 0.342627\n",
      "Alpha: 0.850000, Accuracy: 0.342601\n",
      "Alpha: 0.900000, Accuracy: 0.342064\n",
      "Alpha: 0.950000, Accuracy: 0.342118\n",
      "Alpha: 1.000000, Accuracy: 0.342172\n",
      "Alpha: 1.050000, Accuracy: 0.342359\n",
      "Alpha: 1.100000, Accuracy: 0.342091\n",
      "Alpha: 1.150000, Accuracy: 0.342359\n",
      "Alpha: 1.200000, Accuracy: 0.342306\n",
      "Alpha: 1.250000, Accuracy: 0.341877\n",
      "Alpha: 1.300000, Accuracy: 0.341984\n",
      "Alpha: 1.350000, Accuracy: 0.341850\n",
      "Alpha: 1.400000, Accuracy: 0.342198\n",
      "Alpha: 1.450000, Accuracy: 0.342279\n",
      "Alpha: 1.500000, Accuracy: 0.342038\n",
      "Alpha: 1.550000, Accuracy: 0.342011\n",
      "Alpha: 1.600000, Accuracy: 0.341877\n",
      "Alpha: 1.650000, Accuracy: 0.341823\n",
      "Alpha: 1.700000, Accuracy: 0.341743\n",
      "Alpha: 1.750000, Accuracy: 0.341689\n",
      "Alpha: 1.800000, Accuracy: 0.341796\n",
      "Alpha: 1.850000, Accuracy: 0.341609\n",
      "Alpha: 1.900000, Accuracy: 0.341394\n",
      "Alpha: 1.950000, Accuracy: 0.341340\n",
      "Alpha: 2.000000, Accuracy: 0.341501\n"
     ]
    }
   ],
   "source": [
    "# Finding the best hyperparameters (smoothing value) for MNB on Count_Vect feature set\n",
    "best_accuracy = 0\n",
    "best_a = 0\n",
    "for alpha in range(1,41):\n",
    "    alpha /= 20.0\n",
    "    accuracy = train_model(MultinomialNB(alpha=alpha), xtrain_count, train_y, xvalid_count, valid_y)\n",
    "    print(\"Alpha: %f, Accuracy: %f\" %(alpha, accuracy))\n",
    "    if accuracy > best_accuracy:\n",
    "        best_accuracy = accuracy\n",
    "        best_a = alpha"
   ]
  },
  {
   "cell_type": "code",
   "execution_count": 19,
   "metadata": {},
   "outputs": [
    {
     "name": "stdout",
     "output_type": "stream",
     "text": [
      "Highest accuracy:  0.34273458445040217\n",
      "Alpha: 0.600000\n"
     ]
    }
   ],
   "source": [
    "print(\"Highest accuracy: \", best_accuracy)\n",
    "print(\"Alpha: %f\" %(best_a))"
   ]
  },
  {
   "cell_type": "code",
   "execution_count": 11,
   "metadata": {
    "scrolled": true
   },
   "outputs": [
    {
     "name": "stdout",
     "output_type": "stream",
     "text": [
      "Alpha: 0.050000, Accuracy: 0.339383\n",
      "Alpha: 0.100000, Accuracy: 0.341957\n",
      "Alpha: 0.150000, Accuracy: 0.343566\n",
      "Alpha: 0.200000, Accuracy: 0.344102\n",
      "Alpha: 0.250000, Accuracy: 0.343914\n",
      "Alpha: 0.300000, Accuracy: 0.344048\n",
      "Alpha: 0.350000, Accuracy: 0.344236\n",
      "Alpha: 0.400000, Accuracy: 0.344799\n",
      "Alpha: 0.450000, Accuracy: 0.344477\n",
      "Alpha: 0.500000, Accuracy: 0.344933\n",
      "Alpha: 0.550000, Accuracy: 0.345040\n",
      "Alpha: 0.600000, Accuracy: 0.345335\n",
      "Alpha: 0.650000, Accuracy: 0.345389\n",
      "Alpha: 0.700000, Accuracy: 0.345550\n",
      "Alpha: 0.750000, Accuracy: 0.346059\n",
      "Alpha: 0.800000, Accuracy: 0.345871\n",
      "Alpha: 0.850000, Accuracy: 0.346005\n",
      "Alpha: 0.900000, Accuracy: 0.346944\n",
      "Alpha: 0.950000, Accuracy: 0.346542\n",
      "Alpha: 1.000000, Accuracy: 0.346434\n",
      "Alpha: 1.050000, Accuracy: 0.346434\n",
      "Alpha: 1.100000, Accuracy: 0.346059\n",
      "Alpha: 1.150000, Accuracy: 0.345791\n",
      "Alpha: 1.200000, Accuracy: 0.345791\n",
      "Alpha: 1.250000, Accuracy: 0.345684\n",
      "Alpha: 1.300000, Accuracy: 0.345335\n",
      "Alpha: 1.350000, Accuracy: 0.345416\n",
      "Alpha: 1.400000, Accuracy: 0.344987\n",
      "Alpha: 1.450000, Accuracy: 0.344960\n",
      "Alpha: 1.500000, Accuracy: 0.344853\n",
      "Alpha: 1.550000, Accuracy: 0.344933\n",
      "Alpha: 1.600000, Accuracy: 0.345094\n",
      "Alpha: 1.650000, Accuracy: 0.345040\n",
      "Alpha: 1.700000, Accuracy: 0.345523\n",
      "Alpha: 1.750000, Accuracy: 0.345282\n",
      "Alpha: 1.800000, Accuracy: 0.345308\n",
      "Alpha: 1.850000, Accuracy: 0.345147\n",
      "Alpha: 1.900000, Accuracy: 0.345228\n",
      "Alpha: 1.950000, Accuracy: 0.344960\n",
      "Alpha: 2.000000, Accuracy: 0.345013\n"
     ]
    }
   ],
   "source": [
    "# Finding the best hyperparameters (smoothing value) for BNB on TF_IDF feature set\n",
    "best_accuracy = 0\n",
    "best_a = 0\n",
    "for alpha in range(1,41):\n",
    "    alpha /= 20.0\n",
    "    accuracy = train_model(BernoulliNB(alpha=alpha), xtrain_tfidf, train_y, xvalid_tfidf, valid_y)\n",
    "    print(\"Alpha: %f, Accuracy: %f\" %(alpha, accuracy))\n",
    "    if accuracy > best_accuracy:\n",
    "        best_accuracy = accuracy\n",
    "        best_a = alpha"
   ]
  },
  {
   "cell_type": "code",
   "execution_count": 14,
   "metadata": {},
   "outputs": [
    {
     "name": "stdout",
     "output_type": "stream",
     "text": [
      "Highest accuracy:  0.3469436997319035\n",
      "Alpha: 0.900000\n"
     ]
    }
   ],
   "source": [
    "print(\"Highest accuracy: \", best_accuracy)\n",
    "print(\"Alpha: %f\" %(best_a))"
   ]
  },
  {
   "cell_type": "code",
   "execution_count": 15,
   "metadata": {
    "scrolled": true
   },
   "outputs": [
    {
     "name": "stdout",
     "output_type": "stream",
     "text": [
      "Alpha: 0.050000, Accuracy: 0.339383\n",
      "Alpha: 0.100000, Accuracy: 0.341957\n",
      "Alpha: 0.150000, Accuracy: 0.343566\n",
      "Alpha: 0.200000, Accuracy: 0.344102\n",
      "Alpha: 0.250000, Accuracy: 0.343914\n",
      "Alpha: 0.300000, Accuracy: 0.344048\n",
      "Alpha: 0.350000, Accuracy: 0.344236\n",
      "Alpha: 0.400000, Accuracy: 0.344799\n",
      "Alpha: 0.450000, Accuracy: 0.344477\n",
      "Alpha: 0.500000, Accuracy: 0.344933\n",
      "Alpha: 0.550000, Accuracy: 0.345040\n",
      "Alpha: 0.600000, Accuracy: 0.345335\n",
      "Alpha: 0.650000, Accuracy: 0.345389\n",
      "Alpha: 0.700000, Accuracy: 0.345550\n",
      "Alpha: 0.750000, Accuracy: 0.346059\n",
      "Alpha: 0.800000, Accuracy: 0.345871\n",
      "Alpha: 0.850000, Accuracy: 0.346005\n",
      "Alpha: 0.900000, Accuracy: 0.346944\n",
      "Alpha: 0.950000, Accuracy: 0.346542\n",
      "Alpha: 1.000000, Accuracy: 0.346434\n",
      "Alpha: 1.050000, Accuracy: 0.346434\n",
      "Alpha: 1.100000, Accuracy: 0.346059\n",
      "Alpha: 1.150000, Accuracy: 0.345791\n",
      "Alpha: 1.200000, Accuracy: 0.345791\n",
      "Alpha: 1.250000, Accuracy: 0.345684\n",
      "Alpha: 1.300000, Accuracy: 0.345335\n",
      "Alpha: 1.350000, Accuracy: 0.345416\n",
      "Alpha: 1.400000, Accuracy: 0.344987\n",
      "Alpha: 1.450000, Accuracy: 0.344960\n",
      "Alpha: 1.500000, Accuracy: 0.344853\n",
      "Alpha: 1.550000, Accuracy: 0.344933\n",
      "Alpha: 1.600000, Accuracy: 0.345094\n",
      "Alpha: 1.650000, Accuracy: 0.345040\n",
      "Alpha: 1.700000, Accuracy: 0.345523\n",
      "Alpha: 1.750000, Accuracy: 0.345282\n",
      "Alpha: 1.800000, Accuracy: 0.345308\n",
      "Alpha: 1.850000, Accuracy: 0.345147\n",
      "Alpha: 1.900000, Accuracy: 0.345228\n",
      "Alpha: 1.950000, Accuracy: 0.344960\n",
      "Alpha: 2.000000, Accuracy: 0.345013\n"
     ]
    }
   ],
   "source": [
    "# Finding the best hyperparameters (smoothing value) for BNB on Count_Vect feature set\n",
    "best_accuracy = 0\n",
    "best_a = 0\n",
    "for alpha in range(1,41):\n",
    "    alpha /= 20.0\n",
    "    accuracy = train_model(BernoulliNB(alpha=alpha), xtrain_count, train_y, xvalid_count, valid_y)\n",
    "    print(\"Alpha: %f, Accuracy: %f\" %(alpha, accuracy))\n",
    "    if accuracy > best_accuracy:\n",
    "        best_accuracy = accuracy\n",
    "        best_a = alpha"
   ]
  },
  {
   "cell_type": "code",
   "execution_count": 16,
   "metadata": {},
   "outputs": [
    {
     "name": "stdout",
     "output_type": "stream",
     "text": [
      "Highest accuracy:  0.3469436997319035\n",
      "Alpha: 0.900000\n"
     ]
    }
   ],
   "source": [
    "print(\"Highest accuracy: \", best_accuracy)\n",
    "print(\"Alpha: %f\" %(best_a))"
   ]
  },
  {
   "cell_type": "code",
   "execution_count": 203,
   "metadata": {},
   "outputs": [
    {
     "name": "stdout",
     "output_type": "stream",
     "text": [
      "0.3469436997319035\n",
      "0.37249128425188166\n",
      "0.3469436997319035\n",
      "0.3514821256049599\n"
     ]
    }
   ],
   "source": [
    "# Find the metrics for BNB on TF_IDF feature set with the best smoothing value\n",
    "accuracy, precision, recall, f_score = find_metrics(BernoulliNB(alpha=0.9), xtrain_tfidf, train_y, xvalid_tfidf, valid_y)\n",
    "print(accuracy)\n",
    "print(precision)\n",
    "print(recall)\n",
    "print(f_score)"
   ]
  },
  {
   "cell_type": "code",
   "execution_count": 204,
   "metadata": {},
   "outputs": [
    {
     "name": "stdout",
     "output_type": "stream",
     "text": [
      "0.3469436997319035\n",
      "0.37249128425188166\n",
      "0.3469436997319035\n",
      "0.3514821256049599\n"
     ]
    }
   ],
   "source": [
    "# Find the metrics for BNB on Count_Vect feature set with the best smoothing value\n",
    "accuracy, precision, recall, f_score = find_metrics(BernoulliNB(alpha=0.9), xtrain_count, train_y, xvalid_count, valid_y)\n",
    "print(accuracy)\n",
    "print(precision)\n",
    "print(recall)\n",
    "print(f_score)"
   ]
  },
  {
   "cell_type": "code",
   "execution_count": 205,
   "metadata": {},
   "outputs": [
    {
     "name": "stdout",
     "output_type": "stream",
     "text": [
      "0.3441018766756032\n",
      "0.35582512790871257\n",
      "0.3441018766756032\n",
      "0.34618619968412373\n"
     ]
    }
   ],
   "source": [
    "# Find the metrics for MNB on TF_IDF feature set with the best smoothing value\n",
    "accuracy, precision, recall, f_score = find_metrics(MultinomialNB(alpha=1.35), xtrain_tfidf, train_y, xvalid_tfidf, valid_y)\n",
    "print(accuracy)\n",
    "print(precision)\n",
    "print(recall)\n",
    "print(f_score)"
   ]
  },
  {
   "cell_type": "code",
   "execution_count": 206,
   "metadata": {},
   "outputs": [
    {
     "name": "stdout",
     "output_type": "stream",
     "text": [
      "0.34273458445040217\n",
      "0.4012077186717832\n",
      "0.34273458445040217\n",
      "0.3525338550487199\n"
     ]
    }
   ],
   "source": [
    "# Find the metrics for MNB on Count_Vect feature set with the best smoothing value\n",
    "accuracy, precision, recall, f_score = find_metrics(MultinomialNB(alpha=0.6), xtrain_count, train_y, xvalid_count, valid_y)\n",
    "print(accuracy)\n",
    "print(precision)\n",
    "print(recall)\n",
    "print(f_score)"
   ]
  },
  {
   "cell_type": "code",
   "execution_count": 193,
   "metadata": {},
   "outputs": [
    {
     "name": "stdout",
     "output_type": "stream",
     "text": [
      "Percentile: 10.000000, Accuracy: 0.341582\n",
      "Percentile: 20.000000, Accuracy: 0.347882\n",
      "Percentile: 30.000000, Accuracy: 0.345737\n",
      "Percentile: 40.000000, Accuracy: 0.344129\n",
      "Percentile: 50.000000, Accuracy: 0.343914\n",
      "Percentile: 60.000000, Accuracy: 0.343700\n",
      "Percentile: 70.000000, Accuracy: 0.346193\n",
      "Percentile: 80.000000, Accuracy: 0.346488\n",
      "Percentile: 90.000000, Accuracy: 0.345871\n",
      "Percentile: 100.000000, Accuracy: 0.346944\n"
     ]
    }
   ],
   "source": [
    "# Evaluate BNB on selectPercentile\n",
    "BNBpercentiles = []\n",
    "BNBaccuracies = []\n",
    "for percentile in range(1,11):\n",
    "    percentile *= 10\n",
    "    selector = SelectPercentile(chi2, percentile=percentile)\n",
    "    selector.fit(xtrain_tfidf, train_y)\n",
    "    selected_xtrain = selector.transform(xtrain_tfidf)\n",
    "    selected_xvalid = selector.transform(xvalid_tfidf)\n",
    "    accuracy = train_model(BernoulliNB(alpha=0.9), selected_xtrain, train_y, selected_xvalid, valid_y)\n",
    "    print(\"Percentile: %f, Accuracy: %f\" %(percentile, accuracy))\n",
    "    BNBpercentiles.append(percentile)\n",
    "    BNBaccuracies.append(accuracy)\n",
    "    "
   ]
  },
  {
   "cell_type": "code",
   "execution_count": 194,
   "metadata": {},
   "outputs": [
    {
     "name": "stdout",
     "output_type": "stream",
     "text": [
      "Percentile: 10.000000, Accuracy: 0.339357\n",
      "Percentile: 20.000000, Accuracy: 0.343405\n",
      "Percentile: 30.000000, Accuracy: 0.344397\n",
      "Percentile: 40.000000, Accuracy: 0.343110\n",
      "Percentile: 50.000000, Accuracy: 0.342708\n",
      "Percentile: 60.000000, Accuracy: 0.342735\n",
      "Percentile: 70.000000, Accuracy: 0.343780\n",
      "Percentile: 80.000000, Accuracy: 0.343646\n",
      "Percentile: 90.000000, Accuracy: 0.341716\n",
      "Percentile: 100.000000, Accuracy: 0.344102\n"
     ]
    }
   ],
   "source": [
    "# Evaluate MNB TF_IDF on selectPercentile\n",
    "MNB_T_percentiles = []\n",
    "MNB_T_accuracies = []\n",
    "for percentile in range(1,11):\n",
    "    percentile *= 10\n",
    "    selector = SelectPercentile(chi2, percentile=percentile)\n",
    "    selector.fit(xtrain_tfidf, train_y)\n",
    "    selected_xtrain = selector.transform(xtrain_tfidf)\n",
    "    selected_xvalid = selector.transform(xvalid_tfidf)\n",
    "    accuracy = train_model(MultinomialNB(alpha=1.35), selected_xtrain, train_y, selected_xvalid, valid_y)\n",
    "    print(\"Percentile: %f, Accuracy: %f\" %(percentile, accuracy))\n",
    "    MNB_T_percentiles.append(percentile)\n",
    "    MNB_T_accuracies.append(accuracy)\n",
    "    "
   ]
  },
  {
   "cell_type": "code",
   "execution_count": 195,
   "metadata": {},
   "outputs": [
    {
     "name": "stdout",
     "output_type": "stream",
     "text": [
      "Percentile: 10.000000, Accuracy: 0.339276\n",
      "Percentile: 20.000000, Accuracy: 0.336032\n",
      "Percentile: 30.000000, Accuracy: 0.335710\n",
      "Percentile: 40.000000, Accuracy: 0.334182\n",
      "Percentile: 50.000000, Accuracy: 0.333592\n",
      "Percentile: 60.000000, Accuracy: 0.335147\n",
      "Percentile: 70.000000, Accuracy: 0.335898\n",
      "Percentile: 80.000000, Accuracy: 0.338874\n",
      "Percentile: 90.000000, Accuracy: 0.341019\n",
      "Percentile: 100.000000, Accuracy: 0.342735\n"
     ]
    }
   ],
   "source": [
    "# Evaluate MNB Count_Vect on selectPercentile\n",
    "MNB_C_percentiles = []\n",
    "MNB_C_accuracies = []\n",
    "for percentile in range(1,11):\n",
    "    percentile *= 10\n",
    "    selector = SelectPercentile(chi2, percentile=percentile)\n",
    "    selector.fit(xtrain_count, train_y)\n",
    "    selected_xtrain = selector.transform(xtrain_count)\n",
    "    selected_xvalid = selector.transform(xvalid_count)\n",
    "    accuracy = train_model(MultinomialNB(alpha=0.6), selected_xtrain, train_y, selected_xvalid, valid_y)\n",
    "    print(\"Percentile: %f, Accuracy: %f\" %(percentile, accuracy))\n",
    "    MNB_C_percentiles.append(percentile)\n",
    "    MNB_C_accuracies.append(accuracy)"
   ]
  },
  {
   "cell_type": "code",
   "execution_count": 196,
   "metadata": {},
   "outputs": [
    {
     "data": {
      "text/plain": [
       "Text(0,0.5,'Accuracy')"
      ]
     },
     "execution_count": 196,
     "metadata": {},
     "output_type": "execute_result"
    },
    {
     "data": {
      "image/png": "[encoded data removed]",
      "text/plain": [
       "<Figure size 432x288 with 1 Axes>"
      ]
     },
     "metadata": {},
     "output_type": "display_data"
    }
   ],
   "source": [
    "# Plot the accuracy vs percentile graph\n",
    "plt.plot(BNBpercentiles, BNBaccuracies, label='BNB')\n",
    "plt.plot(MNB_T_percentiles, MNB_T_accuracies, label='MNB_IFIDF')\n",
    "plt.plot(MNB_C_percentiles, MNB_C_accuracies, label='MNB_Count')\n",
    "plt.legend(loc='upper left')\n",
    "plt.xlabel('Percentile (%)')\n",
    "plt.ylabel('Accuracy')"
   ]
  },
  {
   "cell_type": "code",
   "execution_count": null,
   "metadata": {},
   "outputs": [],
   "source": []
  },
  {
   "cell_type": "code",
   "execution_count": null,
   "metadata": {},
   "outputs": [],
   "source": []
  },
  {
   "cell_type": "code",
   "execution_count": 84,
   "metadata": {},
   "outputs": [
    {
     "name": "stdout",
     "output_type": "stream",
     "text": [
      "108148\n",
      "(108148, 196896)\n"
     ]
    }
   ],
   "source": [
    "# # For kaggle submission\n",
    "# df     = pd.read_csv('train-raw.tsv', sep='\\t', header=None, names=['id', 'location', 'text'])\n",
    "# dev_df = pd.read_csv('dev-raw.tsv', sep='\\t', header=None, names=['id', 'location', 'text'])\n",
    "\n",
    "# train_x = df.text\n",
    "# train_y = df.location\n",
    "\n",
    "# train_x = train_x.append(dev_df.text, ignore_index=True)\n",
    "# train_y = train_y.append(dev_df.location, ignore_index=True)\n",
    "\n",
    "# # get test data\n",
    "# data = []\n",
    "\n",
    "# for line in open(\"test-raw.tsv\"):\n",
    "#     data.append(line.split(\"\\t\"))\n",
    "    \n",
    "# test_df = pd.DataFrame(data, columns = ['id', 'class', 'text'])\n",
    "# test_x = test_df.text\n",
    "# test_ids = test_df.id\n",
    "\n",
    "# # create a tf-idf vectorizer object\n",
    "# tfidf_vect = TfidfVectorizer()\n",
    "# tfidf_vect.fit(train_x)\n",
    "# xtrain_tfidf = tfidf_vect.transform(train_x)\n",
    "# xtest_tfidf = tfidf_vect.transform(test_x)\n",
    "\n",
    "# selector = SelectPercentile(f_classif, percentile=90)\n",
    "# selector.fit(xtrain_tfidf, train_y)\n",
    "# selected_xtrain = selector.transform(xtrain_tfidf)\n",
    "# selected_xtest = selector.transform(xtest_tfidf)\n",
    "\n",
    "# print(len(test_ids))\n",
    "# print(selected_xtest.shape)"
   ]
  },
  {
   "cell_type": "code",
   "execution_count": 89,
   "metadata": {},
   "outputs": [
    {
     "name": "stdout",
     "output_type": "stream",
     "text": [
      "108148\n"
     ]
    }
   ],
   "source": [
    "# # Writing out to csv for submission\n",
    "# classifier = BernoulliNB(alpha=0.37) # Found the best test accuracy at 0.37 \n",
    "\n",
    "# classifier.fit(selected_xtrain, train_y)\n",
    "    \n",
    "# # predict the labels on validation dataset\n",
    "# y_pred = classifier.predict(selected_xtest)\n",
    "\n",
    "# with open('predictions.csv', 'w') as writeFile:\n",
    "#     writer = csv.writer(writeFile)\n",
    "#     writer.writerow(['Id', 'Class'])\n",
    "#     for i in range(len(y_pred)):\n",
    "#         lst = [test_ids[i], y_pred[i]]\n",
    "#         writer.writerow(lst)\n",
    "\n",
    "# print(len(y_pred))"
   ]
  },
  {
   "cell_type": "code",
   "execution_count": 182,
   "metadata": {},
   "outputs": [
    {
     "name": "stdout",
     "output_type": "stream",
     "text": [
      "[nltk_data] Downloading package stopwords to /Users/nick/nltk_data...\n",
      "[nltk_data]   Package stopwords is already up-to-date!\n"
     ]
    }
   ],
   "source": [
    "# Error Analysis\n",
    "import re\n",
    "from bs4 import BeautifulSoup\n",
    "import nltk\n",
    "nltk.download('stopwords')\n",
    "from nltk.corpus import stopwords\n",
    "%matplotlib inline\n",
    "REPLACE_BY_SPACE_RE = re.compile('[/(){}\\[\\]\\|@,;]')\n",
    "BAD_SYMBOLS_RE = re.compile('[^0-9a-z #+_\\']')\n",
    "STOPWORDS = set(stopwords.words('english'))\n",
    "\n",
    "def clean_text(text):\n",
    "    \"\"\"\n",
    "        text: a string\n",
    "        \n",
    "        return: modified initial string\n",
    "    \"\"\"\n",
    "    text = re.sub('#[^\\s]+', '', text) # remove hashtag (avoid overfitting)\n",
    "#     text = re.sub('@[^\\s]+', '', text) # remove username (avoid overfitting)\n",
    "#     text = re.sub('http[^\\s]+', '', text) # remove link reference\n",
    "#     text = REPLACE_BY_SPACE_RE.sub(' ', text) # replace REPLACE_BY_SPACE_RE symbols by space in text\n",
    "#     text = BAD_SYMBOLS_RE.sub('', text) # delete symbols which are in BAD_SYMBOLS_RE from text\n",
    "#     text = ' '.join(word for word in text.split() if word not in STOPWORDS) # delete stopwors from text\n",
    "    return text"
   ]
  },
  {
   "cell_type": "code",
   "execution_count": 183,
   "metadata": {},
   "outputs": [
    {
     "data": {
      "text/html": [
       "<div>\n",
       "<style scoped>\n",
       "    .dataframe tbody tr th:only-of-type {\n",
       "        vertical-align: middle;\n",
       "    }\n",
       "\n",
       "    .dataframe tbody tr th {\n",
       "        vertical-align: top;\n",
       "    }\n",
       "\n",
       "    .dataframe thead th {\n",
       "        text-align: right;\n",
       "    }\n",
       "</style>\n",
       "<table border=\"1\" class=\"dataframe\">\n",
       "  <thead>\n",
       "    <tr style=\"text-align: right;\">\n",
       "      <th></th>\n",
       "      <th>id</th>\n",
       "      <th>location</th>\n",
       "      <th>text</th>\n",
       "    </tr>\n",
       "  </thead>\n",
       "  <tbody>\n",
       "    <tr>\n",
       "      <th>0</th>\n",
       "      <td>1</td>\n",
       "      <td>Melbourne</td>\n",
       "      <td>\\ud83c\\udf17 @ Melbourne, Victoria, Australia ...</td>\n",
       "    </tr>\n",
       "    <tr>\n",
       "      <th>1</th>\n",
       "      <td>2</td>\n",
       "      <td>Melbourne</td>\n",
       "      <td>@theage Of course it costs more, minimum stand...</td>\n",
       "    </tr>\n",
       "    <tr>\n",
       "      <th>2</th>\n",
       "      <td>3</td>\n",
       "      <td>Brisbane</td>\n",
       "      <td>Hope people make just as much noise as they di...</td>\n",
       "    </tr>\n",
       "    <tr>\n",
       "      <th>3</th>\n",
       "      <td>4</td>\n",
       "      <td>Perth</td>\n",
       "      <td>Pouring the perfect Prosecco \\ud83e\\udd42\\ud83...</td>\n",
       "    </tr>\n",
       "    <tr>\n",
       "      <th>4</th>\n",
       "      <td>5</td>\n",
       "      <td>Perth</td>\n",
       "      <td>$LNY losing traction at 0.014, see this retrac...</td>\n",
       "    </tr>\n",
       "  </tbody>\n",
       "</table>\n",
       "</div>"
      ],
      "text/plain": [
       "   id   location                                               text\n",
       "0   1  Melbourne  \\ud83c\\udf17 @ Melbourne, Victoria, Australia ...\n",
       "1   2  Melbourne  @theage Of course it costs more, minimum stand...\n",
       "2   3   Brisbane  Hope people make just as much noise as they di...\n",
       "3   4      Perth  Pouring the perfect Prosecco \\ud83e\\udd42\\ud83...\n",
       "4   5      Perth  $LNY losing traction at 0.014, see this retrac..."
      ]
     },
     "execution_count": 183,
     "metadata": {},
     "output_type": "execute_result"
    }
   ],
   "source": [
    "# Reload the dataset\n",
    "df     = pd.read_csv('train-raw.tsv', sep='\\t', header=None, names=['id', 'location', 'text'])\n",
    "dev_df = pd.read_csv('dev-raw.tsv', sep='\\t', header=None, names=['id', 'location', 'text'])\n",
    "df['text'] = df['text'].apply(clean_text)\n",
    "dev_df['text'] = dev_df['text'].apply(clean_text)\n",
    "df.head()"
   ]
  },
  {
   "cell_type": "code",
   "execution_count": 184,
   "metadata": {},
   "outputs": [],
   "source": [
    "# Get the training data\n",
    "train_x, train_y = df['text'], df['location']\n",
    "\n",
    "# Get the dev data\n",
    "valid_x, valid_y = dev_df['text'], dev_df['location']\n",
    "\n",
    "# create a count vectorizer object \n",
    "count_vect = CountVectorizer()\n",
    "count_vect.fit(df['text'])\n",
    "\n",
    "# transform the training and validation data using count vectorizer object\n",
    "xtrain_count =  count_vect.transform(train_x)\n",
    "xvalid_count =  count_vect.transform(valid_x)\n",
    "\n",
    "# create a tf-idf vectorizer object \n",
    "tfidf_vect = TfidfVectorizer()\n",
    "tfidf_vect.fit(df['text'])\n",
    "\n",
    "# transform the training and validation data using tf-idf vectorizer object\n",
    "xtrain_tfidf =  tfidf_vect.transform(train_x)\n",
    "xvalid_tfidf =  tfidf_vect.transform(valid_x)"
   ]
  },
  {
   "cell_type": "code",
   "execution_count": 185,
   "metadata": {},
   "outputs": [
    {
     "name": "stdout",
     "output_type": "stream",
     "text": [
      "Accuracy 0.331823, Precision 0.392124, Recall 0.331823, f_score 0.342424\n"
     ]
    }
   ],
   "source": [
    "# Find the metrics score of the MNB Count_Vect after clean_text\n",
    "accuracy, precision, recall, f_score = find_metrics(MultinomialNB(alpha=0.6), xtrain_count, train_y, xvalid_count, valid_y)\n",
    "print(\"Accuracy %f, Precision %f, Recall %f, f_score %f\" %(accuracy, precision, recall, f_score))"
   ]
  },
  {
   "cell_type": "code",
   "execution_count": 186,
   "metadata": {},
   "outputs": [
    {
     "name": "stdout",
     "output_type": "stream",
     "text": [
      "Accuracy 0.331555, Precision 0.341595, Recall 0.331555, f_score 0.333391\n"
     ]
    }
   ],
   "source": [
    "# Find the metrics score of the MNB TF_IDF after clean_text\n",
    "accuracy, precision, recall, f_score = find_metrics(MultinomialNB(alpha=1.35), xtrain_tfidf, train_y, xvalid_tfidf, valid_y)\n",
    "print(\"Accuracy %f, Precision %f, Recall %f, f_score %f\" %(accuracy, precision, recall, f_score))"
   ]
  },
  {
   "cell_type": "code",
   "execution_count": 187,
   "metadata": {},
   "outputs": [
    {
     "name": "stdout",
     "output_type": "stream",
     "text": [
      "Accuracy 0.333700, Precision 0.360259, Recall 0.333700, f_score 0.338589\n"
     ]
    }
   ],
   "source": [
    "# Find the metrics score of the BNB after clean_text\n",
    "accuracy, precision, recall, f_score = find_metrics(BernoulliNB(alpha=0.9), xtrain_tfidf, train_y, xvalid_tfidf, valid_y)\n",
    "print(\"Accuracy %f, Precision %f, Recall %f, f_score %f\" %(accuracy, precision, recall, f_score))"
   ]
  },
  {
   "cell_type": "code",
   "execution_count": null,
   "metadata": {},
   "outputs": [],
   "source": []
  }
 ],
 "metadata": {
  "kernelspec": {
   "display_name": "Python 3",
   "language": "python",
   "name": "python3"
  },
  "language_info": {
   "codemirror_mode": {
    "name": "ipython",
    "version": 3
   },
   "file_extension": ".py",
   "mimetype": "text/x-python",
   "name": "python",
   "nbconvert_exporter": "python",
   "pygments_lexer": "ipython3",
   "version": "3.6.5"
  }
 },
 "nbformat": 4,
 "nbformat_minor": 2
}
